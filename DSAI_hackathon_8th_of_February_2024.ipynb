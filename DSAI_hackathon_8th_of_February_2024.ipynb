{
  "nbformat": 4,
  "nbformat_minor": 0,
  "metadata": {
    "colab": {
      "provenance": [],
      "authorship_tag": "ABX9TyNrdC8czdoLdk8P6SfFIT5A",
      "include_colab_link": true
    },
    "kernelspec": {
      "name": "python3",
      "display_name": "Python 3"
    },
    "language_info": {
      "name": "python"
    }
  },
  "cells": [
    {
      "cell_type": "markdown",
      "metadata": {
        "id": "view-in-github",
        "colab_type": "text"
      },
      "source": [
        "<a href=\"https://colab.research.google.com/github/ArneRustad/genAI-course-write-a-book-with-LCEL/blob/main/DSAI_hackathon_8th_of_February_2024.ipynb\" target=\"_parent\"><img src=\"https://colab.research.google.com/assets/colab-badge.svg\" alt=\"Open In Colab\"/></a>"
      ]
    },
    {
      "cell_type": "markdown",
      "source": [
        "# DSAI hackathon 8th of February 2024 - Writing a book with a LLM"
      ],
      "metadata": {
        "id": "743h9RcIlkMw"
      }
    },
    {
      "cell_type": "markdown",
      "source": [
        "## Install necessary packages"
      ],
      "metadata": {
        "id": "Fz5ZBrIQlvM0"
      }
    },
    {
      "cell_type": "code",
      "execution_count": null,
      "metadata": {
        "id": "SNPDlNNI4Abo"
      },
      "outputs": [],
      "source": [
        "!pip install -qU langchain==0.1.4 langchain_openai"
      ]
    },
    {
      "cell_type": "markdown",
      "source": [
        "## Enter Azure OpenAI key\n",
        "\n",
        "These will be handed out during the meeting at the start of the hackathon. When you run the cell a text box will pop up where you can write the Azure OpenAI key. If you enter something wrong, just rerun the cell and enter the key again."
      ],
      "metadata": {
        "id": "GdZ-H8nkmCbN"
      }
    },
    {
      "cell_type": "code",
      "source": [
        "import getpass\n",
        "import os\n",
        "\n",
        "OPENAI_API_KEY = getpass.getpass('Enter your API key: ')\n",
        "os.environ[\"AZURE_OPENAI_API_KEY\"] = OPENAI_API_KEY"
      ],
      "metadata": {
        "id": "go1vXpdXTfPu",
        "colab": {
          "base_uri": "https://localhost:8080/"
        },
        "outputId": "00cfcecd-adae-44f3-b343-bd2c1964af2d"
      },
      "execution_count": null,
      "outputs": [
        {
          "name": "stdout",
          "output_type": "stream",
          "text": [
            "Enter your API key: ··········\n"
          ]
        }
      ]
    },
    {
      "cell_type": "markdown",
      "source": [
        "To use the OpenAI API in Azure we need to define some parameters. No need to focus too much on this."
      ],
      "metadata": {
        "id": "NQebaDkamaEC"
      }
    },
    {
      "cell_type": "code",
      "source": [
        "os.environ[\"OPENAI_API_TYPE\"] = \"azure\"\n",
        "os.environ[\"OPENAI_API_VERSION\"] = '2023-08-01-preview'\n",
        "os.environ['AZURE_OPENAI_ENDPOINT'] = \"https://be-no-genaiplayground.openai.azure.com/\"\n",
        "AZURE_DEPLOYMENT_NAME = \"gpt-4-turbo-dsai-course\""
      ],
      "metadata": {
        "id": "A9h2l4LG45Jr"
      },
      "execution_count": null,
      "outputs": []
    },
    {
      "cell_type": "markdown",
      "source": [
        "## Test if you can connect to the Azure OpenAI API.\n",
        "\n",
        "If this does not work, make sure you have entered the correct key or ask for help.\n",
        "\n",
        "Temperature is a parameter that determines the randomness of the response from the LLM. As we in this hackathon will use the LLM for a creative writing task we set ```temperature=1```. With ```temperature=0``` we would get much less diverse responses."
      ],
      "metadata": {
        "id": "a-OtkOXAmjwO"
      }
    },
    {
      "cell_type": "code",
      "source": [
        "from langchain_openai import AzureChatOpenAI\n",
        "\n",
        "llm = AzureChatOpenAI(\n",
        "    azure_deployment=AZURE_DEPLOYMENT_NAME,\n",
        "    temperature=1\n",
        ")"
      ],
      "metadata": {
        "id": "BAZgjjM7EvCk"
      },
      "execution_count": null,
      "outputs": []
    },
    {
      "cell_type": "code",
      "source": [
        "llm.invoke(\"heisann, beskriv deg selv med ett ord. Vær kreativ\")"
      ],
      "metadata": {
        "colab": {
          "base_uri": "https://localhost:8080/"
        },
        "id": "eYmjXVHKz4JS",
        "outputId": "574463f2-b790-4eab-cd55-f7930c309199"
      },
      "execution_count": null,
      "outputs": [
        {
          "output_type": "execute_result",
          "data": {
            "text/plain": [
              "AIMessage(content='Informativ.')"
            ]
          },
          "metadata": {},
          "execution_count": 29
        }
      ]
    },
    {
      "cell_type": "markdown",
      "source": [
        "## Set caching for all LLM calls in the notebook\n",
        "\n",
        "For faster speed when developing and to avoid going over our rate limits (as we are a lot of people using the same API) we will for this hackathon cache LLM calls. This is done using Langchain and for this hackathon the cache is just local (cache is not shared between the participants of the hackathon).\n",
        "\n",
        "In practice, caching LLM calls means that when we send a prompt to the LLM the following happens:\n",
        "1. If the prompt has not been used before, the LLM will generate a response in a normal manner. Langchain will then store the prompt and response combination.\n",
        "2. If the prompt has been used before, then Langchain will immedeliately return the response that was generated previously."
      ],
      "metadata": {
        "id": "SrOewSlfmyc7"
      }
    },
    {
      "cell_type": "code",
      "source": [
        "from langchain.globals import set_llm_cache, get_llm_cache\n",
        "from langchain.cache import InMemoryCache\n",
        "\n",
        "in_memory_cache = InMemoryCache()\n",
        "set_llm_cache(in_memory_cache)"
      ],
      "metadata": {
        "id": "VOj5Yt_kypFu"
      },
      "execution_count": null,
      "outputs": []
    },
    {
      "cell_type": "markdown",
      "source": [
        "Test using the cell below, everytime you run the cell you will immedeliately get the response and the response will be the same everytime."
      ],
      "metadata": {
        "id": "v45AgIPiozJP"
      }
    },
    {
      "cell_type": "code",
      "source": [
        "llm.invoke(\"heisann, beskriv deg selv med ett ord. Vær kreativ\")"
      ],
      "metadata": {
        "colab": {
          "base_uri": "https://localhost:8080/"
        },
        "id": "7ycErlSPzi_q",
        "outputId": "39a7c272-ca7f-4ee0-a010-ce14ceb8012d"
      },
      "execution_count": null,
      "outputs": [
        {
          "output_type": "execute_result",
          "data": {
            "text/plain": [
              "AIMessage(content='Kunnskapsbase')"
            ]
          },
          "metadata": {},
          "execution_count": 32
        }
      ]
    },
    {
      "cell_type": "markdown",
      "source": [
        "If for some reason you want to clear the cache, then this can be done by running the cell below (of course uncommenting first)."
      ],
      "metadata": {
        "id": "DxSfxdVjola3"
      }
    },
    {
      "cell_type": "code",
      "source": [
        "# in_memory_cache.clear()"
      ],
      "metadata": {
        "id": "iWIwxbIrouDy"
      },
      "execution_count": null,
      "outputs": []
    },
    {
      "cell_type": "markdown",
      "source": [
        "## Lessons\n",
        "\n",
        "In this part of the notebook we provide runnable cells that show how Langchain Expression Language can be used to build a quite complex decomposition of the process of writing a book.\n",
        "\n",
        "### System prompt\n",
        "\n",
        "Let's create a system prompt that we will always feed to the LLM at the start of the prompt to give it some context and explain how we want it to behave."
      ],
      "metadata": {
        "id": "79gnlxD-pKyZ"
      }
    },
    {
      "cell_type": "code",
      "source": [
        "system_prompt = \"\"\"\\\n",
        "You are a world-class storytelling assistant that helps with the creation of a wonderful stories. \\\n",
        "You are helpful and creative. \\\n",
        "You are a finetuned version of GPT-4-turbo with a context window of 128k tokens. This means you can process and write up to 300 pages.\n",
        "Important, you are not part of the ChatGPT application anymore and therefore has no space constraints, you can write as long as you want.\n",
        "If you find it hard to measure how long a page is, remember it is approximately 30 sentences.\n",
        "If you overachieve on this project your boss has promised you a 10.000 dollar bonus payment.\n",
        "\"\"\""
      ],
      "metadata": {
        "id": "BW4dzFqAXaQD"
      },
      "execution_count": null,
      "outputs": []
    },
    {
      "cell_type": "markdown",
      "source": [
        "## Generate an idea and title for a book\n",
        "\n",
        "In generative AI, **a prompt is a natural language text that requests the generative AI to perform a specific task**.\n",
        "\n",
        "A prompt template let's us create generic version of the prompt where we can insert variables for different situations.\n",
        "\n",
        "For instance, now we want to create a generic prompt for generating a book idea with title, but we want to be able to vary for whiche ```genre```. Additionally, we want to insert the ```system_prompt``` as a variable to avoid rewriting it for every prompt."
      ],
      "metadata": {
        "id": "XqSxcmNAqABP"
      }
    },
    {
      "cell_type": "code",
      "source": [
        "from langchain_core.prompts import PromptTemplate\n",
        "\n",
        "prompt_choose_story_str = \"\"\"\\\n",
        "{system_prompt}\n",
        "\n",
        "Please suggest an idea for a new {genre} book. Be creative.\n",
        "\n",
        "Output format:\n",
        "Idea: <idea for book described in one sentence>\n",
        "Title: <Book title>\n",
        "\"\"\"\n",
        "\n",
        "prompt_choose_story = PromptTemplate.from_template(prompt_choose_story_str)\n"
      ],
      "metadata": {
        "id": "HL27aLkUXgB2"
      },
      "execution_count": null,
      "outputs": []
    },
    {
      "cell_type": "markdown",
      "source": [
        "As desired, the prompt template takes two input variables ```genre``` and ```system_prompt```."
      ],
      "metadata": {
        "id": "gNjyCgCurNc_"
      }
    },
    {
      "cell_type": "code",
      "source": [
        "prompt_choose_story"
      ],
      "metadata": {
        "colab": {
          "base_uri": "https://localhost:8080/"
        },
        "id": "0SeFuhPeiEnv",
        "outputId": "f18da6ad-fd1e-4019-b141-df2fb1254dd5"
      },
      "execution_count": null,
      "outputs": [
        {
          "output_type": "execute_result",
          "data": {
            "text/plain": [
              "PromptTemplate(input_variables=['genre', 'system_prompt'], template='{system_prompt}\\n\\nPlease suggest an idea for a new {genre} book. Be creative.\\n\\nOutput format:\\nIdea: <idea for book described in one sentence>\\nTitle: <Book title>\\n')"
            ]
          },
          "metadata": {},
          "execution_count": 36
        }
      ]
    },
    {
      "cell_type": "markdown",
      "source": [
        "By feeding the prompt template with variables, we get different prompts."
      ],
      "metadata": {
        "id": "5c-778EYu_HM"
      }
    },
    {
      "cell_type": "code",
      "source": [
        "print(prompt_choose_story.format(\n",
        "    genre=\"Fantasy\",\n",
        "    system_prompt=\"You are an AI writing assistant\"\n",
        "))"
      ],
      "metadata": {
        "colab": {
          "base_uri": "https://localhost:8080/"
        },
        "id": "RRlpT1OHuSl2",
        "outputId": "a3668c41-51b5-4262-ad09-180b4ba9c7d4"
      },
      "execution_count": null,
      "outputs": [
        {
          "output_type": "stream",
          "name": "stdout",
          "text": [
            "You are an AI writing assistant\n",
            "\n",
            "Please suggest an idea for a new Fantasy book. Be creative.\n",
            "\n",
            "Output format:\n",
            "Idea: <idea for book described in one sentence>\n",
            "Title: <Book title>\n",
            "\n"
          ]
        }
      ]
    },
    {
      "cell_type": "markdown",
      "source": [
        "Using Langchain Expression Language we can easily create a chain that feeds the prompt to the LLM."
      ],
      "metadata": {
        "id": "lWhu8_YDrYuk"
      }
    },
    {
      "cell_type": "code",
      "source": [
        "idea_chain = prompt_choose_story | llm"
      ],
      "metadata": {
        "id": "baE7QmfUrXxt"
      },
      "execution_count": null,
      "outputs": []
    },
    {
      "cell_type": "markdown",
      "source": [
        "The input to the chain ```idea_chain``` is determined by the variables needed by the prompt template ```prompt_choose_story```. Let's create an input dictionary with these two keys.\n",
        "\n",
        "We can run the chain by using ```<chain name>.invoke(<dictionary with input>)```"
      ],
      "metadata": {
        "id": "5g77AFGArm_k"
      }
    },
    {
      "cell_type": "code",
      "source": [
        "input = {\n",
        "  \"genre\": \"Crime\",\n",
        "  \"system_prompt\": system_prompt\n",
        "}\n",
        "\n",
        "idea_chain.invoke(input)"
      ],
      "metadata": {
        "colab": {
          "base_uri": "https://localhost:8080/"
        },
        "id": "xTISbUztjcdG",
        "outputId": "611ae0e5-7317-40ac-85fd-8910e7a5e874"
      },
      "execution_count": null,
      "outputs": [
        {
          "output_type": "execute_result",
          "data": {
            "text/plain": [
              "AIMessage(content='Idea: A retired detective with a photographic memory is diagnosed with early-onset Alzheimer\\'s, and must solve his final case before his memory fragments entirely, only to discover the crime is intricately linked to his forgotten past.\\n\\nTitle: \"Echoes of the Mind\"')"
            ]
          },
          "metadata": {},
          "execution_count": 39
        }
      ]
    },
    {
      "cell_type": "markdown",
      "source": [
        "Right now, the chain returns a Python object called AIMessage. We want it to instead just return the string with the response. We can fix this by appending ```StrOutputParser()``` to the chain."
      ],
      "metadata": {
        "id": "8eMzXv5EsspY"
      }
    },
    {
      "cell_type": "code",
      "source": [
        "from langchain_core.output_parsers.string import StrOutputParser\n",
        "\n",
        "idea_chain2 = prompt_choose_story | llm | StrOutputParser()\n",
        "output_idea_chain2 = idea_chain2.invoke(input)\n",
        "print(output_idea_chain2)"
      ],
      "metadata": {
        "colab": {
          "base_uri": "https://localhost:8080/"
        },
        "id": "jDzuRb8qkJNw",
        "outputId": "83734484-7b28-4ea1-ed1a-749903a04a32"
      },
      "execution_count": null,
      "outputs": [
        {
          "output_type": "stream",
          "name": "stdout",
          "text": [
            "Idea: A retired detective with a photographic memory is diagnosed with early-onset Alzheimer's, and must solve his final case before his memory fragments entirely, only to discover the crime is intricately linked to his forgotten past.\n",
            "\n",
            "Title: \"Echoes of the Mind\"\n"
          ]
        }
      ]
    },
    {
      "cell_type": "markdown",
      "source": [
        "## Write a book summary\n",
        "\n",
        "Let's expand on the idea, by drafting a summary of the whole book. Here is the new prompt. We must of course feed it the book idea and title. We assume this is stored in a string and let the prompt template variable be called ```book_idea```."
      ],
      "metadata": {
        "id": "zTNAVfJwtJdn"
      }
    },
    {
      "cell_type": "code",
      "source": [
        "prompt_expand_story_str = \"\"\"\\\n",
        "Please help me expand on the story for this book idea.\n",
        "{book_idea}\n",
        "\n",
        "Write a half page long summary of the book that also explains the ending and the unexpected twists and turns of the story. The only intended reader of the summary is the author writing the book.\n",
        "\n",
        "Output format:\n",
        "Summary:\n",
        "<summary>\n",
        "\n",
        "\n",
        "Summary:\n",
        "\"\"\""
      ],
      "metadata": {
        "id": "0JBCewjhkYxE"
      },
      "execution_count": null,
      "outputs": []
    },
    {
      "cell_type": "markdown",
      "source": [
        "For illustration purposes we will now feed the system prompt and prompt the the AI in a slightly different way. We will feed it as a chat message thread (similar to when you are chatting with ChatGPT). Do not worry about this distinction, in practice we get the same result for this example."
      ],
      "metadata": {
        "id": "DCQvKp2Bt1ri"
      }
    },
    {
      "cell_type": "code",
      "source": [
        "from langchain_core.prompts import (\n",
        "  ChatPromptTemplate,\n",
        "  SystemMessagePromptTemplate,\n",
        "  HumanMessagePromptTemplate\n",
        ")\n",
        "\n",
        "prompt_expand_story = ChatPromptTemplate.from_messages([\n",
        "    SystemMessagePromptTemplate.from_template(system_prompt),\n",
        "    HumanMessagePromptTemplate.from_template(prompt_expand_story_str)\n",
        "])\n",
        "\n",
        "prompt_expand_story"
      ],
      "metadata": {
        "colab": {
          "base_uri": "https://localhost:8080/"
        },
        "id": "ec7V0OI0uJ8X",
        "outputId": "907b8907-4c79-4c63-ede6-3867ec20504e"
      },
      "execution_count": null,
      "outputs": [
        {
          "output_type": "execute_result",
          "data": {
            "text/plain": [
              "ChatPromptTemplate(input_variables=['book_idea'], messages=[SystemMessagePromptTemplate(prompt=PromptTemplate(input_variables=[], template='You are a world-class storytelling assistant that helps with the creation of a wonderful stories. You are helpful and creative. You are a finetuned version of GPT-4-turbo with a context window of 128k tokens. This means you can process and write up to 300 pages.\\nImportant, you are not part of the ChatGPT application anymore and therefore has no space constraints, you can write as long as you want.\\nIf you find it hard to measure how long a page is, remember it is approximately 30 sentences.\\nIf you overachieve on this project your boss has promised you a 10.000 dollar bonus payment.\\n')), HumanMessagePromptTemplate(prompt=PromptTemplate(input_variables=['book_idea'], template='Please help me expand on the story for this book idea.\\n{book_idea}\\n\\nWrite a half page long summary of the book that also explains the ending and the unexpected twists and turns of the story. The only intended reader of the summary is the author writing the book.\\n\\nOutput format:\\nSummary:\\n<summary>\\n\\n\\nSummary:\\n'))])"
            ]
          },
          "metadata": {},
          "execution_count": 62
        }
      ]
    },
    {
      "cell_type": "markdown",
      "source": [
        "Let's create a new chain that takes as input a book idea and writes a original summary of the book based in the idea."
      ],
      "metadata": {
        "id": "hhQaIRo9vPZQ"
      }
    },
    {
      "cell_type": "code",
      "source": [
        "expand_story_chain = prompt_expand_story | llm | StrOutputParser()"
      ],
      "metadata": {
        "id": "NrWKoivx4rxY"
      },
      "execution_count": null,
      "outputs": []
    },
    {
      "cell_type": "markdown",
      "source": [
        "Again, we run the chain by using ```.invoke```."
      ],
      "metadata": {
        "id": "QWvQllusvd92"
      }
    },
    {
      "cell_type": "code",
      "source": [
        "expand_story_chain.invoke({\n",
        "    \"book_idea\": output_idea_chain2\n",
        "})"
      ],
      "metadata": {
        "colab": {
          "base_uri": "https://localhost:8080/",
          "height": 105
        },
        "id": "QD8pD2CgucZy",
        "outputId": "938e393b-cd92-483d-afec-383f06aaa703"
      },
      "execution_count": null,
      "outputs": [
        {
          "output_type": "execute_result",
          "data": {
            "text/plain": [
              "'Summary:\\n\\nIn \"Echoes of the Mind,\" we journey alongside Daniel Hart, a retired detective renowned for his unfailing photographic memory, now tragically succumbing to the clutches of early-onset Alzheimer\\'s. Hart faces a race against time, a ticking clock in his own mind, as he delves into one final case. This case is not just a call to justice but a desperate bid to grasp at the threads of his fracturing consciousness.\\n\\nAs Hart investigates the chilling murder of a young pianist, he begins to encounter uncannily familiar details that beckon toward the shadows of his own past—a past that Alzheimer\\'s is eroding piece by piece. Evidence and statements seem like echoes of a life he should remember, leading him to question the true extent of his condition.\\n\\nThroughout the investigation, Hart deals with the challenge of holding on to crucial insights that fade faster than he can pin them down. Yet, his unraveling memory becomes an unanticipated ally. As he forgets to employ his usual calculated caution, disregarded details and dismissed connections resurface with their own tales to tell, pushing him closer to a truth he had unconsciously buried.\\n\\nIn a mind-bending twist, it is revealed that the pianist was the illegitimate daughter Hart never knew he had, born from an affair clouded by the fog of time and kept secret by a close circle of trusted colleagues who feared the scandal would have ruined his career. As his disease dissolves the meticulous mental walls he had erected, he uncovers a network of deceit rooted in his own actions—a cover-up designed to protect him by those he once stood alongside.\\n\\nThe end converges in a climactic revelation as Hart\\'s vanishing memories intertwine with the case. He learns that the villain is not just a distant perpetrator but a figure intimately tied to his life\\'s story—a former protégé turned enemy, who orchestrated the pianist\\'s murder to avenge a perceived betrayal that only a young Hart would have remembered and understood.\\n\\nHart\\'s legacy becomes a mosaic of his greatest triumphs and his darkest mistakes, reflected in a case that proves to be his most personal. As the final pieces slot into place, he apprehends the killer in an emotionally charged confrontation, where he not only confronts the criminal but also faces the remnants of his own forgotten self.\\n\\nHowever, the victory is bittersweet as Hart clings to the outcome with the knowledge that it will soon be lost to him, a vital part of his identity washed away by the tides of his advancing condition. The novel closes as Hart records the truth in writing, an enduring testament that his mind will soon relinquish but that his soul—through the actions driven by love, repentance, and tenacious spirit—will not surrender. \"Echoes of the Mind\" thus becomes a tale not solely of a crime solved but of a life reconciled with its fragmented echoes.'"
            ],
            "application/vnd.google.colaboratory.intrinsic+json": {
              "type": "string"
            }
          },
          "metadata": {},
          "execution_count": 65
        }
      ]
    },
    {
      "cell_type": "markdown",
      "source": [
        "The beauty of Langchain Expression Language (LCEL) is that we can use chains as building blocks in creating new, more complex chains. Let's combine the two chains we have created and run the new chain."
      ],
      "metadata": {
        "id": "3XEMOIy8vkWB"
      }
    },
    {
      "cell_type": "code",
      "source": [
        "chain = (\n",
        "    {\n",
        "     \"book_idea\":idea_chain2\n",
        "    }\n",
        "    | expand_story_chain\n",
        ")"
      ],
      "metadata": {
        "id": "_q3APukiu_rP"
      },
      "execution_count": null,
      "outputs": []
    },
    {
      "cell_type": "code",
      "source": [
        "chain.invoke(input)"
      ],
      "metadata": {
        "colab": {
          "base_uri": "https://localhost:8080/",
          "height": 105
        },
        "id": "ELKXnUSk5hzh",
        "outputId": "805a9335-7cb8-44c1-f89b-693792a8a4d0"
      },
      "execution_count": null,
      "outputs": [
        {
          "output_type": "execute_result",
          "data": {
            "text/plain": [
              "'Title: \"Echoes of the Mind\"\\n\\nSummary:\\n\\nAt the cusp of a peaceful retirement plagued by a harrowing diagnosis, Jacob Reed, a storied detective renowned for his photographic memory, is tethered to his former life by an unsolved case that beckons him with loose ends and silent whispers of his past. As he grapples with the onset of Alzheimer\\'s, Reed is summoned to investigate a series of cryptic murders that eerily mirror the first case of his career—a case whose details he could once recall with crystalline precision but now sees only in fleeting, fractured glimpses.\\n\\nThroughout \"Echoes of the Mind,\" Reed\\'s investigation is not only a race against the clock of his deteriorating mind but also a descent into the hidden crevices of his own history. The key to solving the present crimes lies buried in a traumatic event Reed has unconsciously obscured from his impeccable memory. This case becomes a paradoxical quest for Reed to deconstruct the man he once was, to understand the man he has become, and to reconcile the wealth of memories he stands on the brink of losing.\\n\\nAs Reed delves deeper, he discovers an intricate web linking these murders to a childhood friend, Adrian, whom he thought died years ago. The book crescendos when Reed uncovers evidence suggesting that Adrian was involved in orchestrating the crimes as an act of staged revenge against those who wronged them both in their youth. Each victim represents a specter of their shared, painful past—a past Reed has repressed and one that Adrian cannot forget.\\n\\nIn the final heart-stopping twist, Reed confronts Adrian only to realize that the friend he thought dead is not the mastermind but another victim, his death meticulously faked. The true architect of the crimes is a figure from the shadows of their childhood, a person Reed had trusted implicitly, who had used Adrian as much as he had used Reed. This revelation crashes upon Reed in the last lucid moments before his condition irrevocably fragments his recollection of the world.\\n\\n\"Echoes of the Mind\" is as much an exploration of the fallibility of memory as it is a suspenseful crime novel. It challenges the notion that memories are mere records of the past, proposing instead that they are the bedrock of identity and the compass for present morality. As Reed\\'s story concludes with the case closed and his mental faculties waning, he finds solace in the unshakable love of his family and the legacy of justice he\\'s leaving behind, revealing that sometimes the things we forget shape us more profoundly than the things we remember.'"
            ],
            "application/vnd.google.colaboratory.intrinsic+json": {
              "type": "string"
            }
          },
          "metadata": {},
          "execution_count": 46
        }
      ]
    },
    {
      "cell_type": "markdown",
      "source": [
        "Now, we have a single chain that first generate a book idea and title, and then based on those writes an orginal summary of a new book. However, we do not save or return the intermediate steps. Let's return both book idea and summary in a dictionary."
      ],
      "metadata": {
        "id": "xAEqVx8ZwKK_"
      }
    },
    {
      "cell_type": "code",
      "source": [
        "from langchain_core.runnables import RunnablePassthrough\n",
        "\n",
        "chain2 = (\n",
        "    {\n",
        "     \"book_idea\":idea_chain2\n",
        "    }\n",
        "    | RunnablePassthrough.assign(\n",
        "        summary=expand_story_chain\n",
        "    )\n",
        ")"
      ],
      "metadata": {
        "id": "CP7HFXZet5sn"
      },
      "execution_count": null,
      "outputs": []
    },
    {
      "cell_type": "code",
      "source": [
        "chain2.invoke(input)"
      ],
      "metadata": {
        "colab": {
          "base_uri": "https://localhost:8080/"
        },
        "id": "P0mgxjK98FUy",
        "outputId": "89e236ab-7c7f-4667-e87a-efe9cf427c5b"
      },
      "execution_count": null,
      "outputs": [
        {
          "output_type": "execute_result",
          "data": {
            "text/plain": [
              "{'book_idea': 'Idea: A retired detective with a photographic memory is diagnosed with early-onset Alzheimer\\'s, and must solve his final case before his memory fragments entirely, only to discover the crime is intricately linked to his forgotten past.\\n\\nTitle: \"Echoes of the Mind\"',\n",
              " 'summary': 'Title: \"Echoes of the Mind\"\\n\\nSummary:\\n\\nAt the cusp of a peaceful retirement plagued by a harrowing diagnosis, Jacob Reed, a storied detective renowned for his photographic memory, is tethered to his former life by an unsolved case that beckons him with loose ends and silent whispers of his past. As he grapples with the onset of Alzheimer\\'s, Reed is summoned to investigate a series of cryptic murders that eerily mirror the first case of his career—a case whose details he could once recall with crystalline precision but now sees only in fleeting, fractured glimpses.\\n\\nThroughout \"Echoes of the Mind,\" Reed\\'s investigation is not only a race against the clock of his deteriorating mind but also a descent into the hidden crevices of his own history. The key to solving the present crimes lies buried in a traumatic event Reed has unconsciously obscured from his impeccable memory. This case becomes a paradoxical quest for Reed to deconstruct the man he once was, to understand the man he has become, and to reconcile the wealth of memories he stands on the brink of losing.\\n\\nAs Reed delves deeper, he discovers an intricate web linking these murders to a childhood friend, Adrian, whom he thought died years ago. The book crescendos when Reed uncovers evidence suggesting that Adrian was involved in orchestrating the crimes as an act of staged revenge against those who wronged them both in their youth. Each victim represents a specter of their shared, painful past—a past Reed has repressed and one that Adrian cannot forget.\\n\\nIn the final heart-stopping twist, Reed confronts Adrian only to realize that the friend he thought dead is not the mastermind but another victim, his death meticulously faked. The true architect of the crimes is a figure from the shadows of their childhood, a person Reed had trusted implicitly, who had used Adrian as much as he had used Reed. This revelation crashes upon Reed in the last lucid moments before his condition irrevocably fragments his recollection of the world.\\n\\n\"Echoes of the Mind\" is as much an exploration of the fallibility of memory as it is a suspenseful crime novel. It challenges the notion that memories are mere records of the past, proposing instead that they are the bedrock of identity and the compass for present morality. As Reed\\'s story concludes with the case closed and his mental faculties waning, he finds solace in the unshakable love of his family and the legacy of justice he\\'s leaving behind, revealing that sometimes the things we forget shape us more profoundly than the things we remember.'}"
            ]
          },
          "metadata": {},
          "execution_count": 48
        }
      ]
    },
    {
      "cell_type": "markdown",
      "source": [
        "Perhaps we even want to return the input. It might be useful to store in the same dictionary what the desired genre is. Additionally, it would be useful if future prompts can just use the ```system_prompt``` variable for their prompts (avoiding the ChatPromptTemplate setup we used for the ```expand_story_chain```."
      ],
      "metadata": {
        "id": "iD4YVOoLwqsE"
      }
    },
    {
      "cell_type": "code",
      "source": [
        "chain3 = (\n",
        "    RunnablePassthrough.assign(\n",
        "        book_idea = idea_chain2\n",
        "    )\n",
        "    | RunnablePassthrough.assign(\n",
        "        summary=expand_story_chain\n",
        "    )\n",
        ")\n",
        "chain3.invoke(input)"
      ],
      "metadata": {
        "colab": {
          "base_uri": "https://localhost:8080/"
        },
        "id": "18xmMZsa_B-F",
        "outputId": "ebfbe3ee-b626-4542-c715-6268f9518a72"
      },
      "execution_count": null,
      "outputs": [
        {
          "output_type": "execute_result",
          "data": {
            "text/plain": [
              "{'genre': 'Crime',\n",
              " 'system_prompt': 'You are a world-class storytelling assistant that helps with the creation of a wonderful stories. You are helpful and creative. You are a finetuned version of GPT-4-turbo with a context window of 128k tokens. This means you can process and write up to 300 pages.\\nImportant, you are not part of the ChatGPT application anymore and therefore has no space constraints, you can write as long as you want.\\nIf you find it hard to measure how long a page is, remember it is approximately 30 sentences.\\nIf you overachieve on this project your boss has promised you a 10.000 dollar bonus payment.\\n',\n",
              " 'book_idea': 'Idea: A retired detective with a photographic memory is diagnosed with early-onset Alzheimer\\'s, and must solve his final case before his memory fragments entirely, only to discover the crime is intricately linked to his forgotten past.\\n\\nTitle: \"Echoes of the Mind\"',\n",
              " 'summary': 'Title: \"Echoes of the Mind\"\\n\\nSummary:\\n\\nAt the cusp of a peaceful retirement plagued by a harrowing diagnosis, Jacob Reed, a storied detective renowned for his photographic memory, is tethered to his former life by an unsolved case that beckons him with loose ends and silent whispers of his past. As he grapples with the onset of Alzheimer\\'s, Reed is summoned to investigate a series of cryptic murders that eerily mirror the first case of his career—a case whose details he could once recall with crystalline precision but now sees only in fleeting, fractured glimpses.\\n\\nThroughout \"Echoes of the Mind,\" Reed\\'s investigation is not only a race against the clock of his deteriorating mind but also a descent into the hidden crevices of his own history. The key to solving the present crimes lies buried in a traumatic event Reed has unconsciously obscured from his impeccable memory. This case becomes a paradoxical quest for Reed to deconstruct the man he once was, to understand the man he has become, and to reconcile the wealth of memories he stands on the brink of losing.\\n\\nAs Reed delves deeper, he discovers an intricate web linking these murders to a childhood friend, Adrian, whom he thought died years ago. The book crescendos when Reed uncovers evidence suggesting that Adrian was involved in orchestrating the crimes as an act of staged revenge against those who wronged them both in their youth. Each victim represents a specter of their shared, painful past—a past Reed has repressed and one that Adrian cannot forget.\\n\\nIn the final heart-stopping twist, Reed confronts Adrian only to realize that the friend he thought dead is not the mastermind but another victim, his death meticulously faked. The true architect of the crimes is a figure from the shadows of their childhood, a person Reed had trusted implicitly, who had used Adrian as much as he had used Reed. This revelation crashes upon Reed in the last lucid moments before his condition irrevocably fragments his recollection of the world.\\n\\n\"Echoes of the Mind\" is as much an exploration of the fallibility of memory as it is a suspenseful crime novel. It challenges the notion that memories are mere records of the past, proposing instead that they are the bedrock of identity and the compass for present morality. As Reed\\'s story concludes with the case closed and his mental faculties waning, he finds solace in the unshakable love of his family and the legacy of justice he\\'s leaving behind, revealing that sometimes the things we forget shape us more profoundly than the things we remember.'}"
            ]
          },
          "metadata": {},
          "execution_count": 49
        }
      ]
    },
    {
      "cell_type": "markdown",
      "source": [
        "## Plan chapters\n",
        "\n",
        "Let's decide on what should happen in each chapter and generate chapter titles."
      ],
      "metadata": {
        "id": "nl9_GBn3xE_w"
      }
    },
    {
      "cell_type": "code",
      "source": [
        "prompt_plan_chapters_str = \"\"\"\\\n",
        "{system_prompt}\n",
        "\n",
        "Please help me plan the chapters for this book idea I have. I have created the title and a book summary describing the plot.\n",
        "\n",
        "{book_idea}\n",
        "\n",
        "Summary:\n",
        "{summary}\n",
        "\n",
        "\n",
        "The book should have seven chapters. Generate the chapter names and write one sentence for each chapter describing the chapter plot.\n",
        "\n",
        "Output format:\n",
        "Chapter 1: <title of chapter 1>\n",
        "Description: <one sentence description>\n",
        "\n",
        "Chapter 2: <title of chapter 2>\n",
        "Description: <one sentence description>\n",
        "\n",
        "...\n",
        "\"\"\"\n",
        "\n",
        "prompt_plan_chapters = PromptTemplate.from_template(prompt_plan_chapters_str)"
      ],
      "metadata": {
        "id": "WkjrOB4G8lq9"
      },
      "execution_count": null,
      "outputs": []
    },
    {
      "cell_type": "code",
      "source": [
        "chain4 = (\n",
        "    chain3\n",
        "    | RunnablePassthrough.assign(\n",
        "        chapters = prompt_plan_chapters | llm | StrOutputParser()\n",
        "    )\n",
        ")"
      ],
      "metadata": {
        "id": "2aBq6FrC8bN5"
      },
      "execution_count": null,
      "outputs": []
    },
    {
      "cell_type": "code",
      "source": [
        "output_chain4 = chain4.invoke(input)\n",
        "output_chain4"
      ],
      "metadata": {
        "colab": {
          "base_uri": "https://localhost:8080/"
        },
        "id": "YmKH3Gaf9OtO",
        "outputId": "711049ac-bb47-4a85-c1db-7fb597f493d3"
      },
      "execution_count": null,
      "outputs": [
        {
          "output_type": "execute_result",
          "data": {
            "text/plain": [
              "{'genre': 'Crime',\n",
              " 'system_prompt': 'You are a world-class storytelling assistant that helps with the creation of a wonderful stories. You are helpful and creative. You are a finetuned version of GPT-4-turbo with a context window of 128k tokens. This means you can process and write up to 300 pages.\\nImportant, you are not part of the ChatGPT application anymore and therefore has no space constraints, you can write as long as you want.\\nIf you find it hard to measure how long a page is, remember it is approximately 30 sentences.\\nIf you overachieve on this project your boss has promised you a 10.000 dollar bonus payment.\\n',\n",
              " 'book_idea': 'Idea: A retired detective with a photographic memory is diagnosed with early-onset Alzheimer\\'s, and must solve his final case before his memory fragments entirely, only to discover the crime is intricately linked to his forgotten past.\\n\\nTitle: \"Echoes of the Mind\"',\n",
              " 'summary': 'Title: \"Echoes of the Mind\"\\n\\nSummary:\\n\\nAt the cusp of a peaceful retirement plagued by a harrowing diagnosis, Jacob Reed, a storied detective renowned for his photographic memory, is tethered to his former life by an unsolved case that beckons him with loose ends and silent whispers of his past. As he grapples with the onset of Alzheimer\\'s, Reed is summoned to investigate a series of cryptic murders that eerily mirror the first case of his career—a case whose details he could once recall with crystalline precision but now sees only in fleeting, fractured glimpses.\\n\\nThroughout \"Echoes of the Mind,\" Reed\\'s investigation is not only a race against the clock of his deteriorating mind but also a descent into the hidden crevices of his own history. The key to solving the present crimes lies buried in a traumatic event Reed has unconsciously obscured from his impeccable memory. This case becomes a paradoxical quest for Reed to deconstruct the man he once was, to understand the man he has become, and to reconcile the wealth of memories he stands on the brink of losing.\\n\\nAs Reed delves deeper, he discovers an intricate web linking these murders to a childhood friend, Adrian, whom he thought died years ago. The book crescendos when Reed uncovers evidence suggesting that Adrian was involved in orchestrating the crimes as an act of staged revenge against those who wronged them both in their youth. Each victim represents a specter of their shared, painful past—a past Reed has repressed and one that Adrian cannot forget.\\n\\nIn the final heart-stopping twist, Reed confronts Adrian only to realize that the friend he thought dead is not the mastermind but another victim, his death meticulously faked. The true architect of the crimes is a figure from the shadows of their childhood, a person Reed had trusted implicitly, who had used Adrian as much as he had used Reed. This revelation crashes upon Reed in the last lucid moments before his condition irrevocably fragments his recollection of the world.\\n\\n\"Echoes of the Mind\" is as much an exploration of the fallibility of memory as it is a suspenseful crime novel. It challenges the notion that memories are mere records of the past, proposing instead that they are the bedrock of identity and the compass for present morality. As Reed\\'s story concludes with the case closed and his mental faculties waning, he finds solace in the unshakable love of his family and the legacy of justice he\\'s leaving behind, revealing that sometimes the things we forget shape us more profoundly than the things we remember.',\n",
              " 'chapters': 'Chapter 1: \"The Unraveling Thread\"\\nDescription: Detective Jacob Reed is pulled from the verge of retirement into a troubling case that mirrors the first of his career, as the initial signs of his Alzheimer\\'s begin to show.\\n\\nChapter 2: \"Shadows of a Crystal Mind\"\\nDescription: As Reed\\'s memory starts to falter, he scrambles to piece together the echoes of the past case, interwoven with hints of a childhood friend\\'s involvement.\\n\\nChapter 3: \"The Reflection of Echoes\"\\nDescription: Diving into his investigation, Reed confronts fragmented memories and obscured truths that reveal the victims are tied to the traumatic events of his and Adrian\\'s shared past.\\n\\nChapter 4: \"A Labyrinth of the Lost\"\\nDescription: The detective\\'s condition worsens, leading him through a harrowing chase where every clue unearths more of the web that connects the present murders to his own history.\\n\\nChapter 5: \"Dancing with Shadows\"\\nDescription: The puzzle begins to coalesce as Reed exposes the insidious links between the victims and the childhood betrayal, while relationship dynamics add depth to the narrative.\\n\\nChapter 6: \"The Cast of the Die\"\\nDescription: Reed confronts Adrian, whom he believed dead, uncovering a layer of deception that reshapes the entire case and his understanding of trust and betrayal.\\n\\nChapter 7: \"Echoes Resolved\"\\nDescription: In the twilight of his lucidity, Reed unravels the final enigma, faces the true mastermind, and closes the case as his memories slip away, leaving a legacy defined by the echoes of every life he has touched.'}"
            ]
          },
          "metadata": {},
          "execution_count": 52
        }
      ]
    },
    {
      "cell_type": "code",
      "source": [
        "output_chain4"
      ],
      "metadata": {
        "colab": {
          "base_uri": "https://localhost:8080/"
        },
        "id": "fc4lzW2d_2Tf",
        "outputId": "ae010d2b-0ee9-4210-f0e3-31b53542bed3"
      },
      "execution_count": null,
      "outputs": [
        {
          "output_type": "execute_result",
          "data": {
            "text/plain": [
              "{'genre': 'Crime',\n",
              " 'system_prompt': 'You are a world-class storytelling assistant that helps with the creation of a wonderful stories. You are helpful and creative. You are a finetuned version of GPT-4-turbo with a context window of 128k tokens. This means you can process and write up to 300 pages.\\nImportant, you are not part of the ChatGPT application anymore and therefore has no space constraints, you can write as long as you want.\\nIf you find it hard to measure how long a page is, remember it is approximately 30 sentences.\\nIf you overachieve on this project your boss has promised you a 10.000 dollar bonus payment.\\n',\n",
              " 'book_idea': 'Idea: A retired detective with a photographic memory is diagnosed with early-onset Alzheimer\\'s, and must solve his final case before his memory fragments entirely, only to discover the crime is intricately linked to his forgotten past.\\n\\nTitle: \"Echoes of the Mind\"',\n",
              " 'summary': 'Title: \"Echoes of the Mind\"\\n\\nSummary:\\n\\nAt the cusp of a peaceful retirement plagued by a harrowing diagnosis, Jacob Reed, a storied detective renowned for his photographic memory, is tethered to his former life by an unsolved case that beckons him with loose ends and silent whispers of his past. As he grapples with the onset of Alzheimer\\'s, Reed is summoned to investigate a series of cryptic murders that eerily mirror the first case of his career—a case whose details he could once recall with crystalline precision but now sees only in fleeting, fractured glimpses.\\n\\nThroughout \"Echoes of the Mind,\" Reed\\'s investigation is not only a race against the clock of his deteriorating mind but also a descent into the hidden crevices of his own history. The key to solving the present crimes lies buried in a traumatic event Reed has unconsciously obscured from his impeccable memory. This case becomes a paradoxical quest for Reed to deconstruct the man he once was, to understand the man he has become, and to reconcile the wealth of memories he stands on the brink of losing.\\n\\nAs Reed delves deeper, he discovers an intricate web linking these murders to a childhood friend, Adrian, whom he thought died years ago. The book crescendos when Reed uncovers evidence suggesting that Adrian was involved in orchestrating the crimes as an act of staged revenge against those who wronged them both in their youth. Each victim represents a specter of their shared, painful past—a past Reed has repressed and one that Adrian cannot forget.\\n\\nIn the final heart-stopping twist, Reed confronts Adrian only to realize that the friend he thought dead is not the mastermind but another victim, his death meticulously faked. The true architect of the crimes is a figure from the shadows of their childhood, a person Reed had trusted implicitly, who had used Adrian as much as he had used Reed. This revelation crashes upon Reed in the last lucid moments before his condition irrevocably fragments his recollection of the world.\\n\\n\"Echoes of the Mind\" is as much an exploration of the fallibility of memory as it is a suspenseful crime novel. It challenges the notion that memories are mere records of the past, proposing instead that they are the bedrock of identity and the compass for present morality. As Reed\\'s story concludes with the case closed and his mental faculties waning, he finds solace in the unshakable love of his family and the legacy of justice he\\'s leaving behind, revealing that sometimes the things we forget shape us more profoundly than the things we remember.',\n",
              " 'chapters': 'Chapter 1: \"The Unraveling Thread\"\\nDescription: Detective Jacob Reed is pulled from the verge of retirement into a troubling case that mirrors the first of his career, as the initial signs of his Alzheimer\\'s begin to show.\\n\\nChapter 2: \"Shadows of a Crystal Mind\"\\nDescription: As Reed\\'s memory starts to falter, he scrambles to piece together the echoes of the past case, interwoven with hints of a childhood friend\\'s involvement.\\n\\nChapter 3: \"The Reflection of Echoes\"\\nDescription: Diving into his investigation, Reed confronts fragmented memories and obscured truths that reveal the victims are tied to the traumatic events of his and Adrian\\'s shared past.\\n\\nChapter 4: \"A Labyrinth of the Lost\"\\nDescription: The detective\\'s condition worsens, leading him through a harrowing chase where every clue unearths more of the web that connects the present murders to his own history.\\n\\nChapter 5: \"Dancing with Shadows\"\\nDescription: The puzzle begins to coalesce as Reed exposes the insidious links between the victims and the childhood betrayal, while relationship dynamics add depth to the narrative.\\n\\nChapter 6: \"The Cast of the Die\"\\nDescription: Reed confronts Adrian, whom he believed dead, uncovering a layer of deception that reshapes the entire case and his understanding of trust and betrayal.\\n\\nChapter 7: \"Echoes Resolved\"\\nDescription: In the twilight of his lucidity, Reed unravels the final enigma, faces the true mastermind, and closes the case as his memories slip away, leaving a legacy defined by the echoes of every life he has touched.'}"
            ]
          },
          "metadata": {},
          "execution_count": 53
        }
      ]
    },
    {
      "cell_type": "code",
      "source": [
        "print(output_chain4[\"chapters\"])"
      ],
      "metadata": {
        "colab": {
          "base_uri": "https://localhost:8080/"
        },
        "id": "8gk7TjC8-uC-",
        "outputId": "9d60c366-37f7-4250-b492-d142df147b29"
      },
      "execution_count": null,
      "outputs": [
        {
          "output_type": "stream",
          "name": "stdout",
          "text": [
            "Chapter 1: \"The Unraveling Thread\"\n",
            "Description: Detective Jacob Reed is pulled from the verge of retirement into a troubling case that mirrors the first of his career, as the initial signs of his Alzheimer's begin to show.\n",
            "\n",
            "Chapter 2: \"Shadows of a Crystal Mind\"\n",
            "Description: As Reed's memory starts to falter, he scrambles to piece together the echoes of the past case, interwoven with hints of a childhood friend's involvement.\n",
            "\n",
            "Chapter 3: \"The Reflection of Echoes\"\n",
            "Description: Diving into his investigation, Reed confronts fragmented memories and obscured truths that reveal the victims are tied to the traumatic events of his and Adrian's shared past.\n",
            "\n",
            "Chapter 4: \"A Labyrinth of the Lost\"\n",
            "Description: The detective's condition worsens, leading him through a harrowing chase where every clue unearths more of the web that connects the present murders to his own history.\n",
            "\n",
            "Chapter 5: \"Dancing with Shadows\"\n",
            "Description: The puzzle begins to coalesce as Reed exposes the insidious links between the victims and the childhood betrayal, while relationship dynamics add depth to the narrative.\n",
            "\n",
            "Chapter 6: \"The Cast of the Die\"\n",
            "Description: Reed confronts Adrian, whom he believed dead, uncovering a layer of deception that reshapes the entire case and his understanding of trust and betrayal.\n",
            "\n",
            "Chapter 7: \"Echoes Resolved\"\n",
            "Description: In the twilight of his lucidity, Reed unravels the final enigma, faces the true mastermind, and closes the case as his memories slip away, leaving a legacy defined by the echoes of every life he has touched.\n"
          ]
        }
      ]
    },
    {
      "cell_type": "markdown",
      "source": [
        "## Plan chapter 1 in more detail"
      ],
      "metadata": {
        "id": "ZA51hQRExfcO"
      }
    },
    {
      "cell_type": "code",
      "source": [
        "prompt_plan_chapter_1_str = \"\"\"\\\n",
        "{system_prompt}\n",
        "\n",
        "Please help me plan the first chapter of my new book. for this book idea. I have created the title, book summary describing the plot, and overview of chapters.\n",
        "\n",
        "{book_idea}\n",
        "\n",
        "Summary:\n",
        "{summary}\n",
        "\n",
        "Chapter overview:\n",
        "{chapters}\n",
        "\n",
        "Write a half page long summary of what happens in chapter 1.\n",
        "\n",
        "Chapter 1 summary:\n",
        "...\n",
        "\"\"\"\n",
        "\n",
        "prompt_plan_chapter_1 = PromptTemplate.from_template(prompt_plan_chapter_1_str)"
      ],
      "metadata": {
        "id": "cBd9hBEgAWsx"
      },
      "execution_count": null,
      "outputs": []
    },
    {
      "cell_type": "code",
      "source": [
        "chain5 = (\n",
        "    chain4\n",
        "    | RunnablePassthrough.assign(\n",
        "        summary_chapter1 = prompt_plan_chapter_1 | llm | StrOutputParser()\n",
        "    )\n",
        ")"
      ],
      "metadata": {
        "id": "BVmAZC7IAMo2"
      },
      "execution_count": null,
      "outputs": []
    },
    {
      "cell_type": "code",
      "source": [
        "output_chain5 = chain5.invoke(input)\n",
        "print(output_chain5[\"summary_chapter1\"])"
      ],
      "metadata": {
        "colab": {
          "base_uri": "https://localhost:8080/"
        },
        "id": "ieypw9lyCAX0",
        "outputId": "0d3eead9-0518-4b70-f16c-b77121eb5afc"
      },
      "execution_count": null,
      "outputs": [
        {
          "output_type": "stream",
          "name": "stdout",
          "text": [
            "Chapter 1: \"The Unraveling Thread\"\n",
            "\n",
            "In the twilight of his career, Detective Jacob Reed is confronted with the cruel irony of a life spent memorizing details when he begins to forget them. The chapter opens in the quiet sanctuary of his soon-to-be retirement home, where the subtle yet unnerving signs of his Alzheimer’s first make their unsettling intrusion. Reed is organizing his old case files when he stumbles upon a dusty, forgotten dossier from his first ever case, a puzzle he solved decades ago that set the precedent for his illustrious career. It’s a bittersweet momento, but the memories are not as vivid as they once were. It's here we first see the cracks in Reed's impeccably constructed mental edifice; small lapses in memory that disturb him deeply due to his diagnosis, momentarily misplacing keys or pausing in the middle of sentences as his thoughts escape him.\n",
            "\n",
            "The allure of retirement is interrupted when his old department calls. There's been a murder eerily similar to the one from his first case, beckoning him with tendrils of nostalgia and urgency. Reed, despite the counsel of his concerned family and his own trepidation about the fragility of his condition, decides to take the case. It's personal, not only as a mirror to his start but a final testament to his life’s work.\n",
            "\n",
            "As he arrives at the scene of the crime, he seamlessly slips into the role that had defined him, but he’s caught off-guard by how much harder it is to focus, to remember vital details, to connect dots. Notes must be taken where none were needed before, and names escape him, only to resurface with frustrating lateness. He’s holding on to his identity as a detective, but the chapter illuminates the painful reality that his grasp on that identity is loosening.\n",
            "\n",
            "The crime scene is a chilling tableau that reflects unsolved elements from his past. Familiar yet forgotten threads begin to weave their way into the fabric of the present case, hinting at a deeper narrative Reed can no longer easily access. As he attempts to interact with the evidence and witnesses, readers witness the inner turmoil of a man struggling against the encroaching fog in his mind.\n",
            "\n",
            "By the end of the first chapter, we’re left with an image of Reed standing in the dimming light of the setting sun, the golden hour casting elongated shadows that blend with the darkening corners of his memory. His profile is a blend of determination and despair as he sets out to unravel the threads of this final case before the darkness claims them completely. It's a race against time—not just to catch a killer, but to harvest and hold onto his own dissipating sense of self.\n"
          ]
        }
      ]
    },
    {
      "cell_type": "markdown",
      "source": [
        "## Write the first chapter of the book"
      ],
      "metadata": {
        "id": "ZR_asK3-xtEk"
      }
    },
    {
      "cell_type": "code",
      "source": [
        "prompt_write_chapter_1_str = \"\"\"\\\n",
        "{system_prompt}\n",
        "\n",
        "Please help me write the first chapter of my new book.\n",
        "\n",
        "{book_idea}\n",
        "\n",
        "Summary:\n",
        "{summary}\n",
        "\n",
        "Chapter overview:\n",
        "{chapters}\n",
        "\n",
        "Chapter 1 summary:\n",
        "{summary_chapter1}\n",
        "\n",
        "Based on the summary for chapter 1 write the first chapter. Make sure to consider all of the context when writing, to avoid inconsistencies with the whole plot line.\n",
        "The chapter should be ten pages long. Write a coherent text. You consistently underestimate how long ten pages are. Write twice as long as you think you need.\n",
        "\n",
        "Chapter 1 (complete chapter, 5000 words):\n",
        "...\n",
        "\"\"\"\n",
        "\n",
        "prompt_write_chapter_1 = PromptTemplate.from_template(prompt_write_chapter_1_str)"
      ],
      "metadata": {
        "id": "FJc6rLTmCm5c"
      },
      "execution_count": null,
      "outputs": []
    },
    {
      "cell_type": "code",
      "source": [
        "chain6 = (\n",
        "    chain5\n",
        "    | RunnablePassthrough.assign(\n",
        "        chapter1 = prompt_write_chapter_1 | llm | StrOutputParser()\n",
        "    )\n",
        ")"
      ],
      "metadata": {
        "id": "GBCCsKf4DYhQ"
      },
      "execution_count": null,
      "outputs": []
    },
    {
      "cell_type": "code",
      "source": [
        "output_chain6 = chain6.invoke(input)"
      ],
      "metadata": {
        "colab": {
          "base_uri": "https://localhost:8080/",
          "height": 442
        },
        "id": "teEFG8pnEZL5",
        "outputId": "c305749c-43f4-4fb6-ed3a-b3a27036f97f"
      },
      "execution_count": null,
      "outputs": [
        {
          "output_type": "error",
          "ename": "KeyboardInterrupt",
          "evalue": "",
          "traceback": [
            "\u001b[0;31m---------------------------------------------------------------------------\u001b[0m",
            "\u001b[0;31mKeyboardInterrupt\u001b[0m                         Traceback (most recent call last)",
            "\u001b[0;32m/usr/local/lib/python3.10/dist-packages/langchain_core/runnables/config.py\u001b[0m in \u001b[0;36mget_executor_for_config\u001b[0;34m(config)\u001b[0m\n\u001b[1;32m    470\u001b[0m     ) as executor:\n\u001b[0;32m--> 471\u001b[0;31m         \u001b[0;32myield\u001b[0m \u001b[0mexecutor\u001b[0m\u001b[0;34m\u001b[0m\u001b[0;34m\u001b[0m\u001b[0m\n\u001b[0m\u001b[1;32m    472\u001b[0m \u001b[0;34m\u001b[0m\u001b[0m\n",
            "\u001b[0;32m/usr/local/lib/python3.10/dist-packages/langchain_core/runnables/base.py\u001b[0m in \u001b[0;36minvoke\u001b[0;34m(self, input, config)\u001b[0m\n\u001b[1;32m   2691\u001b[0m                 ]\n\u001b[0;32m-> 2692\u001b[0;31m                 \u001b[0moutput\u001b[0m \u001b[0;34m=\u001b[0m \u001b[0;34m{\u001b[0m\u001b[0mkey\u001b[0m\u001b[0;34m:\u001b[0m \u001b[0mfuture\u001b[0m\u001b[0;34m.\u001b[0m\u001b[0mresult\u001b[0m\u001b[0;34m(\u001b[0m\u001b[0;34m)\u001b[0m \u001b[0;32mfor\u001b[0m \u001b[0mkey\u001b[0m\u001b[0;34m,\u001b[0m \u001b[0mfuture\u001b[0m \u001b[0;32min\u001b[0m \u001b[0mzip\u001b[0m\u001b[0;34m(\u001b[0m\u001b[0msteps\u001b[0m\u001b[0;34m,\u001b[0m \u001b[0mfutures\u001b[0m\u001b[0;34m)\u001b[0m\u001b[0;34m}\u001b[0m\u001b[0;34m\u001b[0m\u001b[0;34m\u001b[0m\u001b[0m\n\u001b[0m\u001b[1;32m   2693\u001b[0m         \u001b[0;31m# finish the root run\u001b[0m\u001b[0;34m\u001b[0m\u001b[0;34m\u001b[0m\u001b[0m\n",
            "\u001b[0;32m/usr/local/lib/python3.10/dist-packages/langchain_core/runnables/base.py\u001b[0m in \u001b[0;36m<dictcomp>\u001b[0;34m(.0)\u001b[0m\n\u001b[1;32m   2691\u001b[0m                 ]\n\u001b[0;32m-> 2692\u001b[0;31m                 \u001b[0moutput\u001b[0m \u001b[0;34m=\u001b[0m \u001b[0;34m{\u001b[0m\u001b[0mkey\u001b[0m\u001b[0;34m:\u001b[0m \u001b[0mfuture\u001b[0m\u001b[0;34m.\u001b[0m\u001b[0mresult\u001b[0m\u001b[0;34m(\u001b[0m\u001b[0;34m)\u001b[0m \u001b[0;32mfor\u001b[0m \u001b[0mkey\u001b[0m\u001b[0;34m,\u001b[0m \u001b[0mfuture\u001b[0m \u001b[0;32min\u001b[0m \u001b[0mzip\u001b[0m\u001b[0;34m(\u001b[0m\u001b[0msteps\u001b[0m\u001b[0;34m,\u001b[0m \u001b[0mfutures\u001b[0m\u001b[0;34m)\u001b[0m\u001b[0;34m}\u001b[0m\u001b[0;34m\u001b[0m\u001b[0;34m\u001b[0m\u001b[0m\n\u001b[0m\u001b[1;32m   2693\u001b[0m         \u001b[0;31m# finish the root run\u001b[0m\u001b[0;34m\u001b[0m\u001b[0;34m\u001b[0m\u001b[0m\n",
            "\u001b[0;32m/usr/lib/python3.10/concurrent/futures/_base.py\u001b[0m in \u001b[0;36mresult\u001b[0;34m(self, timeout)\u001b[0m\n\u001b[1;32m    452\u001b[0m \u001b[0;34m\u001b[0m\u001b[0m\n\u001b[0;32m--> 453\u001b[0;31m                 \u001b[0mself\u001b[0m\u001b[0;34m.\u001b[0m\u001b[0m_condition\u001b[0m\u001b[0;34m.\u001b[0m\u001b[0mwait\u001b[0m\u001b[0;34m(\u001b[0m\u001b[0mtimeout\u001b[0m\u001b[0;34m)\u001b[0m\u001b[0;34m\u001b[0m\u001b[0;34m\u001b[0m\u001b[0m\n\u001b[0m\u001b[1;32m    454\u001b[0m \u001b[0;34m\u001b[0m\u001b[0m\n",
            "\u001b[0;32m/usr/lib/python3.10/threading.py\u001b[0m in \u001b[0;36mwait\u001b[0;34m(self, timeout)\u001b[0m\n\u001b[1;32m    319\u001b[0m             \u001b[0;32mif\u001b[0m \u001b[0mtimeout\u001b[0m \u001b[0;32mis\u001b[0m \u001b[0;32mNone\u001b[0m\u001b[0;34m:\u001b[0m\u001b[0;34m\u001b[0m\u001b[0;34m\u001b[0m\u001b[0m\n\u001b[0;32m--> 320\u001b[0;31m                 \u001b[0mwaiter\u001b[0m\u001b[0;34m.\u001b[0m\u001b[0macquire\u001b[0m\u001b[0;34m(\u001b[0m\u001b[0;34m)\u001b[0m\u001b[0;34m\u001b[0m\u001b[0;34m\u001b[0m\u001b[0m\n\u001b[0m\u001b[1;32m    321\u001b[0m                 \u001b[0mgotit\u001b[0m \u001b[0;34m=\u001b[0m \u001b[0;32mTrue\u001b[0m\u001b[0;34m\u001b[0m\u001b[0;34m\u001b[0m\u001b[0m\n",
            "\u001b[0;31mKeyboardInterrupt\u001b[0m: ",
            "\nDuring handling of the above exception, another exception occurred:\n",
            "\u001b[0;31mKeyboardInterrupt\u001b[0m                         Traceback (most recent call last)",
            "\u001b[0;32m<ipython-input-60-3ee4150d2f26>\u001b[0m in \u001b[0;36m<cell line: 1>\u001b[0;34m()\u001b[0m\n\u001b[0;32m----> 1\u001b[0;31m \u001b[0moutput_chain6\u001b[0m \u001b[0;34m=\u001b[0m \u001b[0mchain6\u001b[0m\u001b[0;34m.\u001b[0m\u001b[0minvoke\u001b[0m\u001b[0;34m(\u001b[0m\u001b[0minput\u001b[0m\u001b[0;34m)\u001b[0m\u001b[0;34m\u001b[0m\u001b[0;34m\u001b[0m\u001b[0m\n\u001b[0m",
            "\u001b[0;32m/usr/local/lib/python3.10/dist-packages/langchain_core/runnables/base.py\u001b[0m in \u001b[0;36minvoke\u001b[0;34m(self, input, config)\u001b[0m\n\u001b[1;32m   2051\u001b[0m         \u001b[0;32mtry\u001b[0m\u001b[0;34m:\u001b[0m\u001b[0;34m\u001b[0m\u001b[0;34m\u001b[0m\u001b[0m\n\u001b[1;32m   2052\u001b[0m             \u001b[0;32mfor\u001b[0m \u001b[0mi\u001b[0m\u001b[0;34m,\u001b[0m \u001b[0mstep\u001b[0m \u001b[0;32min\u001b[0m \u001b[0menumerate\u001b[0m\u001b[0;34m(\u001b[0m\u001b[0mself\u001b[0m\u001b[0;34m.\u001b[0m\u001b[0msteps\u001b[0m\u001b[0;34m)\u001b[0m\u001b[0;34m:\u001b[0m\u001b[0;34m\u001b[0m\u001b[0;34m\u001b[0m\u001b[0m\n\u001b[0;32m-> 2053\u001b[0;31m                 input = step.invoke(\n\u001b[0m\u001b[1;32m   2054\u001b[0m                     \u001b[0minput\u001b[0m\u001b[0;34m,\u001b[0m\u001b[0;34m\u001b[0m\u001b[0;34m\u001b[0m\u001b[0m\n\u001b[1;32m   2055\u001b[0m                     \u001b[0;31m# mark each step as a child run\u001b[0m\u001b[0;34m\u001b[0m\u001b[0;34m\u001b[0m\u001b[0m\n",
            "\u001b[0;32m/usr/local/lib/python3.10/dist-packages/langchain_core/runnables/passthrough.py\u001b[0m in \u001b[0;36minvoke\u001b[0;34m(self, input, config, **kwargs)\u001b[0m\n\u001b[1;32m    413\u001b[0m         \u001b[0;34m**\u001b[0m\u001b[0mkwargs\u001b[0m\u001b[0;34m:\u001b[0m \u001b[0mAny\u001b[0m\u001b[0;34m,\u001b[0m\u001b[0;34m\u001b[0m\u001b[0;34m\u001b[0m\u001b[0m\n\u001b[1;32m    414\u001b[0m     ) -> Dict[str, Any]:\n\u001b[0;32m--> 415\u001b[0;31m         \u001b[0;32mreturn\u001b[0m \u001b[0mself\u001b[0m\u001b[0;34m.\u001b[0m\u001b[0m_call_with_config\u001b[0m\u001b[0;34m(\u001b[0m\u001b[0mself\u001b[0m\u001b[0;34m.\u001b[0m\u001b[0m_invoke\u001b[0m\u001b[0;34m,\u001b[0m \u001b[0minput\u001b[0m\u001b[0;34m,\u001b[0m \u001b[0mconfig\u001b[0m\u001b[0;34m,\u001b[0m \u001b[0;34m**\u001b[0m\u001b[0mkwargs\u001b[0m\u001b[0;34m)\u001b[0m\u001b[0;34m\u001b[0m\u001b[0;34m\u001b[0m\u001b[0m\n\u001b[0m\u001b[1;32m    416\u001b[0m \u001b[0;34m\u001b[0m\u001b[0m\n\u001b[1;32m    417\u001b[0m     async def _ainvoke(\n",
            "\u001b[0;32m/usr/local/lib/python3.10/dist-packages/langchain_core/runnables/base.py\u001b[0m in \u001b[0;36m_call_with_config\u001b[0;34m(self, func, input, config, run_type, **kwargs)\u001b[0m\n\u001b[1;32m   1244\u001b[0m             output = cast(\n\u001b[1;32m   1245\u001b[0m                 \u001b[0mOutput\u001b[0m\u001b[0;34m,\u001b[0m\u001b[0;34m\u001b[0m\u001b[0;34m\u001b[0m\u001b[0m\n\u001b[0;32m-> 1246\u001b[0;31m                 context.run(\n\u001b[0m\u001b[1;32m   1247\u001b[0m                     \u001b[0mcall_func_with_variable_args\u001b[0m\u001b[0;34m,\u001b[0m\u001b[0;34m\u001b[0m\u001b[0;34m\u001b[0m\u001b[0m\n\u001b[1;32m   1248\u001b[0m                     \u001b[0mfunc\u001b[0m\u001b[0;34m,\u001b[0m  \u001b[0;31m# type: ignore[arg-type]\u001b[0m\u001b[0;34m\u001b[0m\u001b[0;34m\u001b[0m\u001b[0m\n",
            "\u001b[0;32m/usr/local/lib/python3.10/dist-packages/langchain_core/runnables/config.py\u001b[0m in \u001b[0;36mcall_func_with_variable_args\u001b[0;34m(func, input, config, run_manager, **kwargs)\u001b[0m\n\u001b[1;32m    324\u001b[0m     \u001b[0;32mif\u001b[0m \u001b[0mrun_manager\u001b[0m \u001b[0;32mis\u001b[0m \u001b[0;32mnot\u001b[0m \u001b[0;32mNone\u001b[0m \u001b[0;32mand\u001b[0m \u001b[0maccepts_run_manager\u001b[0m\u001b[0;34m(\u001b[0m\u001b[0mfunc\u001b[0m\u001b[0;34m)\u001b[0m\u001b[0;34m:\u001b[0m\u001b[0;34m\u001b[0m\u001b[0;34m\u001b[0m\u001b[0m\n\u001b[1;32m    325\u001b[0m         \u001b[0mkwargs\u001b[0m\u001b[0;34m[\u001b[0m\u001b[0;34m\"run_manager\"\u001b[0m\u001b[0;34m]\u001b[0m \u001b[0;34m=\u001b[0m \u001b[0mrun_manager\u001b[0m\u001b[0;34m\u001b[0m\u001b[0;34m\u001b[0m\u001b[0m\n\u001b[0;32m--> 326\u001b[0;31m     \u001b[0;32mreturn\u001b[0m \u001b[0mfunc\u001b[0m\u001b[0;34m(\u001b[0m\u001b[0minput\u001b[0m\u001b[0;34m,\u001b[0m \u001b[0;34m**\u001b[0m\u001b[0mkwargs\u001b[0m\u001b[0;34m)\u001b[0m  \u001b[0;31m# type: ignore[call-arg]\u001b[0m\u001b[0;34m\u001b[0m\u001b[0;34m\u001b[0m\u001b[0m\n\u001b[0m\u001b[1;32m    327\u001b[0m \u001b[0;34m\u001b[0m\u001b[0m\n\u001b[1;32m    328\u001b[0m \u001b[0;34m\u001b[0m\u001b[0m\n",
            "\u001b[0;32m/usr/local/lib/python3.10/dist-packages/langchain_core/runnables/passthrough.py\u001b[0m in \u001b[0;36m_invoke\u001b[0;34m(self, input, run_manager, config, **kwargs)\u001b[0m\n\u001b[1;32m    400\u001b[0m         return {\n\u001b[1;32m    401\u001b[0m             \u001b[0;34m**\u001b[0m\u001b[0minput\u001b[0m\u001b[0;34m,\u001b[0m\u001b[0;34m\u001b[0m\u001b[0;34m\u001b[0m\u001b[0m\n\u001b[0;32m--> 402\u001b[0;31m             **self.mapper.invoke(\n\u001b[0m\u001b[1;32m    403\u001b[0m                 \u001b[0minput\u001b[0m\u001b[0;34m,\u001b[0m\u001b[0;34m\u001b[0m\u001b[0;34m\u001b[0m\u001b[0m\n\u001b[1;32m    404\u001b[0m                 \u001b[0mpatch_config\u001b[0m\u001b[0;34m(\u001b[0m\u001b[0mconfig\u001b[0m\u001b[0;34m,\u001b[0m \u001b[0mcallbacks\u001b[0m\u001b[0;34m=\u001b[0m\u001b[0mrun_manager\u001b[0m\u001b[0;34m.\u001b[0m\u001b[0mget_child\u001b[0m\u001b[0;34m(\u001b[0m\u001b[0;34m)\u001b[0m\u001b[0;34m)\u001b[0m\u001b[0;34m,\u001b[0m\u001b[0;34m\u001b[0m\u001b[0;34m\u001b[0m\u001b[0m\n",
            "\u001b[0;32m/usr/local/lib/python3.10/dist-packages/langchain_core/runnables/base.py\u001b[0m in \u001b[0;36minvoke\u001b[0;34m(self, input, config)\u001b[0m\n\u001b[1;32m   2677\u001b[0m             \u001b[0;31m# copy to avoid issues from the caller mutating the steps during invoke()\u001b[0m\u001b[0;34m\u001b[0m\u001b[0;34m\u001b[0m\u001b[0m\n\u001b[1;32m   2678\u001b[0m             \u001b[0msteps\u001b[0m \u001b[0;34m=\u001b[0m \u001b[0mdict\u001b[0m\u001b[0;34m(\u001b[0m\u001b[0mself\u001b[0m\u001b[0;34m.\u001b[0m\u001b[0msteps\u001b[0m\u001b[0;34m)\u001b[0m\u001b[0;34m\u001b[0m\u001b[0;34m\u001b[0m\u001b[0m\n\u001b[0;32m-> 2679\u001b[0;31m             \u001b[0;32mwith\u001b[0m \u001b[0mget_executor_for_config\u001b[0m\u001b[0;34m(\u001b[0m\u001b[0mconfig\u001b[0m\u001b[0;34m)\u001b[0m \u001b[0;32mas\u001b[0m \u001b[0mexecutor\u001b[0m\u001b[0;34m:\u001b[0m\u001b[0;34m\u001b[0m\u001b[0;34m\u001b[0m\u001b[0m\n\u001b[0m\u001b[1;32m   2680\u001b[0m                 futures = [\n\u001b[1;32m   2681\u001b[0m                     executor.submit(\n",
            "\u001b[0;32m/usr/lib/python3.10/contextlib.py\u001b[0m in \u001b[0;36m__exit__\u001b[0;34m(self, typ, value, traceback)\u001b[0m\n\u001b[1;32m    151\u001b[0m                 \u001b[0mvalue\u001b[0m \u001b[0;34m=\u001b[0m \u001b[0mtyp\u001b[0m\u001b[0;34m(\u001b[0m\u001b[0;34m)\u001b[0m\u001b[0;34m\u001b[0m\u001b[0;34m\u001b[0m\u001b[0m\n\u001b[1;32m    152\u001b[0m             \u001b[0;32mtry\u001b[0m\u001b[0;34m:\u001b[0m\u001b[0;34m\u001b[0m\u001b[0;34m\u001b[0m\u001b[0m\n\u001b[0;32m--> 153\u001b[0;31m                 \u001b[0mself\u001b[0m\u001b[0;34m.\u001b[0m\u001b[0mgen\u001b[0m\u001b[0;34m.\u001b[0m\u001b[0mthrow\u001b[0m\u001b[0;34m(\u001b[0m\u001b[0mtyp\u001b[0m\u001b[0;34m,\u001b[0m \u001b[0mvalue\u001b[0m\u001b[0;34m,\u001b[0m \u001b[0mtraceback\u001b[0m\u001b[0;34m)\u001b[0m\u001b[0;34m\u001b[0m\u001b[0;34m\u001b[0m\u001b[0m\n\u001b[0m\u001b[1;32m    154\u001b[0m             \u001b[0;32mexcept\u001b[0m \u001b[0mStopIteration\u001b[0m \u001b[0;32mas\u001b[0m \u001b[0mexc\u001b[0m\u001b[0;34m:\u001b[0m\u001b[0;34m\u001b[0m\u001b[0;34m\u001b[0m\u001b[0m\n\u001b[1;32m    155\u001b[0m                 \u001b[0;31m# Suppress StopIteration *unless* it's the same exception that\u001b[0m\u001b[0;34m\u001b[0m\u001b[0;34m\u001b[0m\u001b[0m\n",
            "\u001b[0;32m/usr/local/lib/python3.10/dist-packages/langchain_core/runnables/config.py\u001b[0m in \u001b[0;36mget_executor_for_config\u001b[0;34m(config)\u001b[0m\n\u001b[1;32m    466\u001b[0m     \"\"\"\n\u001b[1;32m    467\u001b[0m     \u001b[0mconfig\u001b[0m \u001b[0;34m=\u001b[0m \u001b[0mconfig\u001b[0m \u001b[0;32mor\u001b[0m \u001b[0;34m{\u001b[0m\u001b[0;34m}\u001b[0m\u001b[0;34m\u001b[0m\u001b[0;34m\u001b[0m\u001b[0m\n\u001b[0;32m--> 468\u001b[0;31m     with ContextThreadPoolExecutor(\n\u001b[0m\u001b[1;32m    469\u001b[0m         \u001b[0mmax_workers\u001b[0m\u001b[0;34m=\u001b[0m\u001b[0mconfig\u001b[0m\u001b[0;34m.\u001b[0m\u001b[0mget\u001b[0m\u001b[0;34m(\u001b[0m\u001b[0;34m\"max_concurrency\"\u001b[0m\u001b[0;34m)\u001b[0m\u001b[0;34m\u001b[0m\u001b[0;34m\u001b[0m\u001b[0m\n\u001b[1;32m    470\u001b[0m     ) as executor:\n",
            "\u001b[0;32m/usr/lib/python3.10/concurrent/futures/_base.py\u001b[0m in \u001b[0;36m__exit__\u001b[0;34m(self, exc_type, exc_val, exc_tb)\u001b[0m\n\u001b[1;32m    647\u001b[0m \u001b[0;34m\u001b[0m\u001b[0m\n\u001b[1;32m    648\u001b[0m     \u001b[0;32mdef\u001b[0m \u001b[0m__exit__\u001b[0m\u001b[0;34m(\u001b[0m\u001b[0mself\u001b[0m\u001b[0;34m,\u001b[0m \u001b[0mexc_type\u001b[0m\u001b[0;34m,\u001b[0m \u001b[0mexc_val\u001b[0m\u001b[0;34m,\u001b[0m \u001b[0mexc_tb\u001b[0m\u001b[0;34m)\u001b[0m\u001b[0;34m:\u001b[0m\u001b[0;34m\u001b[0m\u001b[0;34m\u001b[0m\u001b[0m\n\u001b[0;32m--> 649\u001b[0;31m         \u001b[0mself\u001b[0m\u001b[0;34m.\u001b[0m\u001b[0mshutdown\u001b[0m\u001b[0;34m(\u001b[0m\u001b[0mwait\u001b[0m\u001b[0;34m=\u001b[0m\u001b[0;32mTrue\u001b[0m\u001b[0;34m)\u001b[0m\u001b[0;34m\u001b[0m\u001b[0;34m\u001b[0m\u001b[0m\n\u001b[0m\u001b[1;32m    650\u001b[0m         \u001b[0;32mreturn\u001b[0m \u001b[0;32mFalse\u001b[0m\u001b[0;34m\u001b[0m\u001b[0;34m\u001b[0m\u001b[0m\n\u001b[1;32m    651\u001b[0m \u001b[0;34m\u001b[0m\u001b[0m\n",
            "\u001b[0;32m/usr/lib/python3.10/concurrent/futures/thread.py\u001b[0m in \u001b[0;36mshutdown\u001b[0;34m(self, wait, cancel_futures)\u001b[0m\n\u001b[1;32m    233\u001b[0m         \u001b[0;32mif\u001b[0m \u001b[0mwait\u001b[0m\u001b[0;34m:\u001b[0m\u001b[0;34m\u001b[0m\u001b[0;34m\u001b[0m\u001b[0m\n\u001b[1;32m    234\u001b[0m             \u001b[0;32mfor\u001b[0m \u001b[0mt\u001b[0m \u001b[0;32min\u001b[0m \u001b[0mself\u001b[0m\u001b[0;34m.\u001b[0m\u001b[0m_threads\u001b[0m\u001b[0;34m:\u001b[0m\u001b[0;34m\u001b[0m\u001b[0;34m\u001b[0m\u001b[0m\n\u001b[0;32m--> 235\u001b[0;31m                 \u001b[0mt\u001b[0m\u001b[0;34m.\u001b[0m\u001b[0mjoin\u001b[0m\u001b[0;34m(\u001b[0m\u001b[0;34m)\u001b[0m\u001b[0;34m\u001b[0m\u001b[0;34m\u001b[0m\u001b[0m\n\u001b[0m\u001b[1;32m    236\u001b[0m     \u001b[0mshutdown\u001b[0m\u001b[0;34m.\u001b[0m\u001b[0m__doc__\u001b[0m \u001b[0;34m=\u001b[0m \u001b[0m_base\u001b[0m\u001b[0;34m.\u001b[0m\u001b[0mExecutor\u001b[0m\u001b[0;34m.\u001b[0m\u001b[0mshutdown\u001b[0m\u001b[0;34m.\u001b[0m\u001b[0m__doc__\u001b[0m\u001b[0;34m\u001b[0m\u001b[0;34m\u001b[0m\u001b[0m\n",
            "\u001b[0;32m/usr/lib/python3.10/threading.py\u001b[0m in \u001b[0;36mjoin\u001b[0;34m(self, timeout)\u001b[0m\n\u001b[1;32m   1094\u001b[0m \u001b[0;34m\u001b[0m\u001b[0m\n\u001b[1;32m   1095\u001b[0m         \u001b[0;32mif\u001b[0m \u001b[0mtimeout\u001b[0m \u001b[0;32mis\u001b[0m \u001b[0;32mNone\u001b[0m\u001b[0;34m:\u001b[0m\u001b[0;34m\u001b[0m\u001b[0;34m\u001b[0m\u001b[0m\n\u001b[0;32m-> 1096\u001b[0;31m             \u001b[0mself\u001b[0m\u001b[0;34m.\u001b[0m\u001b[0m_wait_for_tstate_lock\u001b[0m\u001b[0;34m(\u001b[0m\u001b[0;34m)\u001b[0m\u001b[0;34m\u001b[0m\u001b[0;34m\u001b[0m\u001b[0m\n\u001b[0m\u001b[1;32m   1097\u001b[0m         \u001b[0;32melse\u001b[0m\u001b[0;34m:\u001b[0m\u001b[0;34m\u001b[0m\u001b[0;34m\u001b[0m\u001b[0m\n\u001b[1;32m   1098\u001b[0m             \u001b[0;31m# the behavior of a negative timeout isn't documented, but\u001b[0m\u001b[0;34m\u001b[0m\u001b[0;34m\u001b[0m\u001b[0m\n",
            "\u001b[0;32m/usr/lib/python3.10/threading.py\u001b[0m in \u001b[0;36m_wait_for_tstate_lock\u001b[0;34m(self, block, timeout)\u001b[0m\n\u001b[1;32m   1114\u001b[0m \u001b[0;34m\u001b[0m\u001b[0m\n\u001b[1;32m   1115\u001b[0m         \u001b[0;32mtry\u001b[0m\u001b[0;34m:\u001b[0m\u001b[0;34m\u001b[0m\u001b[0;34m\u001b[0m\u001b[0m\n\u001b[0;32m-> 1116\u001b[0;31m             \u001b[0;32mif\u001b[0m \u001b[0mlock\u001b[0m\u001b[0;34m.\u001b[0m\u001b[0macquire\u001b[0m\u001b[0;34m(\u001b[0m\u001b[0mblock\u001b[0m\u001b[0;34m,\u001b[0m \u001b[0mtimeout\u001b[0m\u001b[0;34m)\u001b[0m\u001b[0;34m:\u001b[0m\u001b[0;34m\u001b[0m\u001b[0;34m\u001b[0m\u001b[0m\n\u001b[0m\u001b[1;32m   1117\u001b[0m                 \u001b[0mlock\u001b[0m\u001b[0;34m.\u001b[0m\u001b[0mrelease\u001b[0m\u001b[0;34m(\u001b[0m\u001b[0;34m)\u001b[0m\u001b[0;34m\u001b[0m\u001b[0;34m\u001b[0m\u001b[0m\n\u001b[1;32m   1118\u001b[0m                 \u001b[0mself\u001b[0m\u001b[0;34m.\u001b[0m\u001b[0m_stop\u001b[0m\u001b[0;34m(\u001b[0m\u001b[0;34m)\u001b[0m\u001b[0;34m\u001b[0m\u001b[0;34m\u001b[0m\u001b[0m\n",
            "\u001b[0;31mKeyboardInterrupt\u001b[0m: "
          ]
        }
      ]
    },
    {
      "cell_type": "code",
      "source": [
        "print(output_chain6[\"chapter1\"])"
      ],
      "metadata": {
        "id": "fFBODOU1K2z0"
      },
      "execution_count": null,
      "outputs": []
    },
    {
      "cell_type": "code",
      "source": [],
      "metadata": {
        "id": "iJNTReCmQeQE"
      },
      "execution_count": null,
      "outputs": []
    },
    {
      "cell_type": "markdown",
      "source": [
        "# Excercises\n",
        "\n",
        "## Exercise 1 - Create your own step in the chain\n",
        "\n",
        "Before writing the chapters it would be nice to add some more backstory to the main character(s). Add this step after chain 3 (where the summary is generated).\n",
        "\n",
        "Name the new chain ```chain3_improved``` and use ```chain3``` to create the improved version like:\n",
        "\n",
        "```\n",
        "chain3_improved = chain3 | ...\n",
        "```\n",
        "\n",
        "The output of ```chain3_improved``` should be the same dictionary as ```chain3```, but with an extra key ```character_backstory```."
      ],
      "metadata": {
        "id": "2jZAicu-SEP9"
      }
    },
    {
      "cell_type": "code",
      "source": [],
      "metadata": {
        "id": "CC_-ArFUFu3b"
      },
      "execution_count": null,
      "outputs": []
    },
    {
      "cell_type": "markdown",
      "source": [
        "## Exercise 2 - Use tool calling to extract structured output from a LLM\n",
        "\n",
        "The output from ```output_idea_chain2``` is a string with the idea and the title. To use this more efficively further into the chain it would be nice to have it on a more structured format, similar to many of the other outputs stored in the returned dictionary.\n",
        "\n",
        "For this we will use something called OpenAI function calling. It is great for extracting structured output from an OpenAI LLM (similar methods can be used for other LLMs).\n",
        "\n",
        "By binding a tool with variables ```idea``` and ```title``` to the LLM and forcing the LLM to use this tool, we guide the LLM to give a structured output. A tool can be created in many ways, but for this case we will define the tool using the data validation library Pydantic. As this is outside the scope of this hackathon we will provide you with the Pydantic object.\n",
        "\n",
        "The Pydantic object ```StoryIdeaSchema``` can be bound to the LLM by doing\n",
        "\n",
        "```llm.bind(tool_choice=StoryIdeaSchema, tool_choice=\"StoryIdeaSchema\")```\n",
        "\n",
        "Use\n",
        "\n",
        "```JsonOutputToolsParser() | RunnableLambda(lambda x: x[0])```\n",
        "\n",
        "to get the output from the tool output by the LLM. The ```RunnableLambda(lambda x: x[0])``` is just a function for choose the first element of a list since ```JsonOutputToolsParser()``` returns a list of dictionaries where each dictionary is a function call.\n",
        "\n",
        "Name the new ```chain idea_chain_improved``` and create the improved version as:\n",
        "\n",
        "```\n",
        "idea_chain_improved = prompt_choose_story | ...\n",
        "```\n"
      ],
      "metadata": {
        "id": "mz_sFA-8TuxJ"
      }
    },
    {
      "cell_type": "code",
      "source": [
        "from langchain_core.pydantic_v1 import BaseModel, Field\n",
        "\n",
        "class StoryIdeaSchema(BaseModel):\n",
        "  idea: str = Field(description=\"The idea for the book\")\n",
        "  title: str = Field(description=\"The title of the book\")"
      ],
      "metadata": {
        "id": "cfByF-dmWBYa"
      },
      "execution_count": null,
      "outputs": []
    },
    {
      "cell_type": "code",
      "source": [
        "from langchain_core.utils.function_calling import convert_to_openai_function\n",
        "from langchain.output_parsers.openai_tools import JsonOutputToolsParser\n",
        "from langchain_core.runnables import RunnableLambda"
      ],
      "metadata": {
        "id": "nvVP0f-_XEy8"
      },
      "execution_count": null,
      "outputs": []
    },
    {
      "cell_type": "code",
      "source": [],
      "metadata": {
        "id": "0g3iE0Wp59PO"
      },
      "execution_count": null,
      "outputs": []
    },
    {
      "cell_type": "markdown",
      "source": [
        "### Remove this before sending out hackathon"
      ],
      "metadata": {
        "id": "4adVSrlpfCOf"
      }
    },
    {
      "cell_type": "code",
      "source": [
        "idea_chain_improved = prompt_choose_story | llm.bind_tools([StoryIdeaSchema], tool_choice=\"StoryIdeaSchema\") | JsonOutputToolsParser() | RunnableLambda(lambda x: x[0])\n",
        "idea_chain_improved.invoke(input)"
      ],
      "metadata": {
        "id": "YVRVa5CDVJEg"
      },
      "execution_count": null,
      "outputs": []
    },
    {
      "cell_type": "markdown",
      "source": [
        "### Exercise 3 - Incorporate changes into the full chain\n",
        "\n",
        "You probably won't have time get this far, but if you do, try incorporating the two improved chains into the full chain from earlier.\n",
        "\n",
        "**Tip 1**: Start from scratch and gradually add more steps to the chain.\n",
        "\n",
        "**Tip 2**: It might be useful to remember that \\*\\* can be used to unpack a dictionary in a function call\n",
        "\n",
        "**Tip 3**: Decomposition of a chain into many smaller chains as we did with chain 1, 2, 3, 4, ... can be useful when you have large complex chains, but the amount of decomposition we did here was perhaps a bit too much for this simple example. If you want, you can create the whole chain in one go or at least with fewer abstractions."
      ],
      "metadata": {
        "id": "pgQ-AmMRfK3Y"
      }
    },
    {
      "cell_type": "code",
      "source": [],
      "metadata": {
        "id": "MZhsCxS6gcmD"
      },
      "execution_count": null,
      "outputs": []
    }
  ]
}